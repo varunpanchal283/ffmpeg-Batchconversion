{
  "nbformat": 4,
  "nbformat_minor": 0,
  "metadata": {
    "colab": {
      "name": "FFMPEG BATCH CONVERTER.ipynb",
      "provenance": [],
      "collapsed_sections": [
        "-XQzGOLolHdR",
        "2v4OhRBysnA2"
      ],
      "authorship_tag": "ABX9TyPTWlYjDebnyXT28hE8h+fD",
      "include_colab_link": true
    },
    "kernelspec": {
      "name": "python3",
      "display_name": "Python 3"
    }
  },
  "cells": [
    {
      "cell_type": "markdown",
      "metadata": {
        "id": "view-in-github",
        "colab_type": "text"
      },
      "source": [
        "<a href=\"https://colab.research.google.com/github/varunpanchal283/ffmpeg-Batchconversion/blob/main/FFMPEG_BATCH_CONVERTER.ipynb\" target=\"_parent\"><img src=\"https://colab.research.google.com/assets/colab-badge.svg\" alt=\"Open In Colab\"/></a>"
      ]
    },
    {
      "cell_type": "markdown",
      "metadata": {
        "id": "-XQzGOLolHdR"
      },
      "source": [
        "# **1. Install FFmpeg**"
      ]
    },
    {
      "cell_type": "code",
      "metadata": {
        "id": "K6o9bFXOlKRY",
        "cellView": "form"
      },
      "source": [
        "#@title\n",
        "!pip install ffmpeg\n",
        "!pip install ffmpeg-python"
      ],
      "execution_count": null,
      "outputs": []
    },
    {
      "cell_type": "markdown",
      "metadata": {
        "id": "iu1qS3HsliAV"
      },
      "source": [
        "#**2.** **Mount Drive**\n"
      ]
    },
    {
      "cell_type": "code",
      "metadata": {
        "id": "HVi3p4SIlu-H",
        "colab": {
          "base_uri": "https://localhost:8080/"
        },
        "outputId": "4c724eba-85db-4560-ec28-151f42fb5660"
      },
      "source": [
        "#@title\n",
        "from google.colab import drive\n",
        "drive.mount('/content/gdrive/')"
      ],
      "execution_count": 1,
      "outputs": [
        {
          "output_type": "stream",
          "text": [
            "Mounted at /content/gdrive/\n"
          ],
          "name": "stdout"
        }
      ]
    },
    {
      "cell_type": "markdown",
      "metadata": {
        "id": "2v4OhRBysnA2"
      },
      "source": [
        "#**3. Display of Media Metadata of Each file**"
      ]
    },
    {
      "cell_type": "code",
      "metadata": {
        "id": "KvaBKFu0s3mf",
        "cellView": "form"
      },
      "source": [
        "import os, sys, re\n",
        "\n",
        "media_folder_path = \"\" #@param {type:\"string\"}\n",
        "files=os.listdir(media_folder_path)\n",
        "for file in files:  \n",
        "  os.environ['inputFile'] = media_folder_path+'/'+file\n",
        "  !ffmpeg -i \"$inputFile\" -hide_banner\n",
        "  print()"
      ],
      "execution_count": null,
      "outputs": []
    },
    {
      "cell_type": "code",
      "metadata": {
        "cellView": "form",
        "id": "amnPqr-7rsul"
      },
      "source": [
        "import os, sys, re\n",
        "\n",
        "media_file_path = \"\" #@param {type:\"string\"}\n",
        "files=os.listdir(media_folder_path)\n",
        "!ffmpeg -i \"$inputFile\" -hide_banner\n",
        "print()"
      ],
      "execution_count": null,
      "outputs": []
    },
    {
      "cell_type": "markdown",
      "metadata": {
        "id": "7F5G6fuomEDn"
      },
      "source": [
        "#**4. Video Converter**\n"
      ]
    },
    {
      "cell_type": "markdown",
      "metadata": {
        "id": "uk_boLPMwkeL"
      },
      "source": [
        "##**1.Folder Converter**\n"
      ]
    },
    {
      "cell_type": "code",
      "metadata": {
        "id": "hU4yL2m8EfXO",
        "cellView": "form"
      },
      "source": [
        "import os, sys, re, shutil\n",
        " \n",
        "folder_path = \"\" #@param {type:\"string\"}\n",
        "folder_name = \"\" #@param {type:\"string\"}\n",
        "preset = 'veryfast' #@param [\"ultrafast\",\"superfast\",\"veryfast\",\"faster\",\"fast\",\"medium\",\"slow\",\"slower\",\"veryslow\"]\n",
        "crf = 24 #@param {type:\"slider\", min:0, max:51, step:1}\n",
        "convert_to = 'MP4/H264' #@param [\"MP4/H264\" , \"MKV/H265\"]\n",
        "tune = 'animation' #@param [\"film\",\"animation\",\"grain\",\"stillimage\",\"fastdecode\",\"zerolatency\"]\n",
        "delete_original_file_which_is_converted=\"no\" #@param [\"yes\",\"no\"]\n",
        "cr=str(crf)\n",
        "if convert_to=='MP4/H264':\n",
        "  conto='libx264'\n",
        "  sym='mp4'\n",
        "else:\n",
        "  conto='libx265'\n",
        "  sym='mkv'\n",
        "path=folder_path\n",
        "files=os.listdir(folder_path)\n",
        "destination=(os.path.abspath(os.path.join(path, os.pardir)))\n",
        "maindrive=os.listdir(destination)\n",
        "if folder_name not in maindrive:\n",
        "  path = os.path.join(destination, folder_name)\n",
        "  os.mkdir(path)\n",
        "for file in files:\n",
        "  video_file_path=folder_path+'/'+file\n",
        "  file_name = os.path.basename(video_file_path)\n",
        "  os.environ['inputFile'] = video_file_path\n",
        "  os.environ['outputPath'] = destination\n",
        "  os.environ['fileName'] = file_name[:len(file_name)-5]\n",
        "  os.environ['newfile']=folder_name\n",
        "  os.environ['prst']=preset\n",
        "  os.environ['cf']=cr\n",
        "  os.environ['tn']=tune\n",
        "  os.environ['conv']=conto\n",
        "  os.environ['sy']=sym\n",
        "  !ffmpeg -i \"$inputFile\" -map 0:v -map 0:a -c:v \"$conv\" -crf \"$cf\" -tune \"$tn\" -preset \"$prst\" -c:a aac \"$outputPath\"/\"$newfile\"/\"$fileName\".\"$sy\"\n",
        "  if delete_original_file_which_is_converted==\"yes\":\n",
        "    os.remove(video_file_path)"
      ],
      "execution_count": null,
      "outputs": []
    },
    {
      "cell_type": "markdown",
      "metadata": {
        "id": "9BI197N8wkG_"
      },
      "source": [
        "##**2. File Selective Converter**"
      ]
    },
    {
      "cell_type": "code",
      "metadata": {
        "id": "iXzkJQ3wwoT9",
        "cellView": "form"
      },
      "source": [
        "import os, sys, re\n",
        "\n",
        "folder_path = \"\" #@param {type:\"string\"}\n",
        "Number_of_files =   1#@param {type: \"integer\"}\n",
        "folder_name = \"\" #@param {type:\"string\"}\n",
        "preset = 'veryfast' #@param [\"ultrafast\",\"superfast\",\"veryfast\",\"faster\",\"fast\",\"medium\",\"slow\",\"slower\",\"veryslow\"]\n",
        "crf = 24 #@param {type:\"slider\", min:0, max:51, step:1}\n",
        "convert_to = 'MP4/H264' #@param [\"MP4/H264\" , \"MKV/H265\"]\n",
        "tune = 'animation' #@param [\"film\",\"animation\",\"grain\",\"stillimage\",\"fastdecode\",\"zerolatency\"]\n",
        "delete_original_file_which_is_converted=\"no\" #@param [\"yes\",\"no\"]\n",
        "cr=str(crf)\n",
        "if convert_to=='MP4/H264':\n",
        "  sym='mp4'\n",
        "  conto='libx264'\n",
        "else:\n",
        "  sym='mkv'\n",
        "  conto='libx265'\n",
        "path=folder_path\n",
        "files=[]\n",
        "for i in range(Number_of_files):\n",
        "  print(\"Enter File name #with extension: \",end=' ')\n",
        "  files.append(str(input()))\n",
        "destination=(os.path.abspath(os.path.join(path, os.pardir)))\n",
        "maindrive=os.listdir(destination)\n",
        "if folder_name not in maindrive:\n",
        "  path = os.path.join(destination, folder_name)\n",
        "  os.mkdir(path)\n",
        "for file in files:\n",
        "  video_file_path=folder_path+'/'+file\n",
        "  file_name = os.path.basename(video_file_path)\n",
        "  os.environ['inputFile'] = video_file_path\n",
        "  os.environ['outputPath'] = destination\n",
        "  os.environ['fileName'] = file_name[:len(file_name)-5]\n",
        "  os.environ['newfile']=folder_name\n",
        "  os.environ['prst']=preset\n",
        "  os.environ['cf']=cr\n",
        "  os.environ['tn']=tune\n",
        "  os.environ['conv']=conto\n",
        "  os.environ['sy']=sym\n",
        "  !ffmpeg -i \"$inputFile\" -map 0:v -map 0:a -c:v \"$conv\" -crf \"$cf\" -tune \"$tn\" -preset \"$prst\" -c:a aac \"$outputPath\"/\"$newfile\"/\"$fileName\".\"$sy\"\n",
        "  if delete_original_file_which_is_converted==\"yes\":\n",
        "    os.remove(video_file_path)"
      ],
      "execution_count": null,
      "outputs": []
    }
  ]
}