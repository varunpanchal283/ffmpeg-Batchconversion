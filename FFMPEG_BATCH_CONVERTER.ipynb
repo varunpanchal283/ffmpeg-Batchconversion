{
  "nbformat": 4,
  "nbformat_minor": 0,
  "metadata": {
    "colab": {
      "name": "FFMPEG BATCH CONVERTER.ipynb",
      "provenance": [],
      "collapsed_sections": [
        "-XQzGOLolHdR",
        "iu1qS3HsliAV",
        "2v4OhRBysnA2",
        "7F5G6fuomEDn",
        "uk_boLPMwkeL",
        "9BI197N8wkG_"
      ],
      "authorship_tag": "ABX9TyMfq87x4q46fAJbcywtFLxn",
      "include_colab_link": true
    },
    "kernelspec": {
      "name": "python3",
      "display_name": "Python 3"
    }
  },
  "cells": [
    {
      "cell_type": "markdown",
      "metadata": {
        "id": "view-in-github",
        "colab_type": "text"
      },
      "source": [
        "<a href=\"https://colab.research.google.com/github/varunpanchal283/ffmpeg-Batchconversion/blob/main/FFMPEG_BATCH_CONVERTER.ipynb\" target=\"_parent\"><img src=\"https://colab.research.google.com/assets/colab-badge.svg\" alt=\"Open In Colab\"/></a>"
      ]
    },
    {
      "cell_type": "markdown",
      "metadata": {
        "id": "-XQzGOLolHdR"
      },
      "source": [
        "# **1. Install FFmpeg**"
      ]
    },
    {
      "cell_type": "code",
      "metadata": {
        "id": "K6o9bFXOlKRY",
        "cellView": "form"
      },
      "source": [
        "#@title\n",
        "!pip install ffmpeg\n",
        "!pip install ffmpeg-python"
      ],
      "execution_count": null,
      "outputs": []
    },
    {
      "cell_type": "markdown",
      "metadata": {
        "id": "iu1qS3HsliAV"
      },
      "source": [
        "#**2.** **Mount Drive**\n"
      ]
    },
    {
      "cell_type": "code",
      "metadata": {
        "id": "HVi3p4SIlu-H",
        "cellView": "form"
      },
      "source": [
        "#@title\n",
        "from google.colab import drive\n",
        "drive.mount('/content/gdrive/')"
      ],
      "execution_count": null,
      "outputs": []
    },
    {
      "cell_type": "markdown",
      "metadata": {
        "id": "2v4OhRBysnA2"
      },
      "source": [
        "#**3. Display of Media Metadata of Each file**"
      ]
    },
    {
      "cell_type": "code",
      "metadata": {
        "id": "KvaBKFu0s3mf",
        "cellView": "form"
      },
      "source": [
        "import os, sys, re\n",
        "\n",
        "media_folder_path = \"\" #@param {type:\"string\"}\n",
        "files=os.listdir(media_folder_path)\n",
        "for file in files:  \n",
        "  os.environ['inputFile'] = media_folder_path+'/'+file\n",
        "  !ffmpeg -i \"$inputFile\" -hide_banner\n",
        "  print()"
      ],
      "execution_count": null,
      "outputs": []
    },
    {
      "cell_type": "markdown",
      "metadata": {
        "id": "7F5G6fuomEDn"
      },
      "source": [
        "#**3. Video Converter (Any Format to MP4/H264)**\n",
        "***----->>> BATCH FILE***"
      ]
    },
    {
      "cell_type": "markdown",
      "metadata": {
        "id": "uk_boLPMwkeL"
      },
      "source": [
        "##**1.FOR SINGLE AUDIO AND VIDEO STREAMED FILE**\n",
        "\n",
        "######***-->IMPORTANT NOTE: IF IT HAS MULTIPLE AUDIO OR VIDEO TRACKS IT'S GOING TO SYNC ALL TRACKS***"
      ]
    },
    {
      "cell_type": "code",
      "metadata": {
        "id": "dubxrEpfwmUk",
        "cellView": "form"
      },
      "source": [
        "import os, sys, re\n",
        "\n",
        "folder_path = \"\" #@param {type:\"string\"}\n",
        "variable_name = \"\"\n",
        "files=os.listdir(folder_path)\n",
        "for file in files:\n",
        "  video_file_path=folder_path+'/'+file\n",
        "  output_file_path = re.search(\"^[\\/].+\\/\", video_file_path)\n",
        "  output_file_path_raw = output_file_path.group(0)\n",
        "  delsplit = re.search(\"\\/(?:.(?!\\/))+$\", video_file_path)\n",
        "  filename = re.sub(\"^[\\/]\", \"\", delsplit.group(0))\n",
        "  filename_raw = re.sub(\".{4}$\", \"\", filename)\n",
        "  file_extension = re.search(\".{3}$\", filename)\n",
        "  file_extension_raw = file_extension.group(0)\n",
        "\n",
        "  os.environ['inputFile'] = video_file_path\n",
        "  os.environ['outputPath'] = output_file_path_raw\n",
        "  os.environ['fileName'] = filename_raw\n",
        "  os.environ['fileExtension'] = file_extension_raw\n",
        "\n",
        "  !ffmpeg -i \"$inputFile\" -map 0:v -map 0:a -c:v libx264 -c:a aac \"$outputPath\"/\"$fileName\".mp4"
      ],
      "execution_count": null,
      "outputs": []
    },
    {
      "cell_type": "markdown",
      "metadata": {
        "id": "9BI197N8wkG_"
      },
      "source": [
        "##**2. FOR MULTIPLE AUDIO OR MULTIPLE VIDEO STREAMED FILE**\n",
        "\n",
        "###**IMPORTANT NOTE**\n",
        "####***-->> GIVE INPUTS OF STREAM VIDEO AND STREAM AUDIO ACCORDING TO THE MEDIA METADATE DISPLAYED***\n",
        "####****EXAMPLE : Stream #0:0(jpn): Video: hevc****\n",
        "#####----------------------**Stream #0:1(jpn): Audio: opus, 48000 Hz, stereo, fltp**\n",
        "#####----------------------**Stream #0:3(eng): Audio: opus, 48000 Hz, stereo, fltp (default)**\n",
        "\n",
        "####**Here you can give input for Stream video as 0 to select jpn video**####\n",
        "####**And you can give input for Stream audio as 1 to select jpn audio**####\n",
        "####**Here you can give input for Stream audio as 3 to select eng audio**####"
      ]
    },
    {
      "cell_type": "code",
      "metadata": {
        "id": "iXzkJQ3wwoT9",
        "cellView": "form"
      },
      "source": [
        "import os, sys, re\n",
        "\n",
        "folder_path = \"\" #@param {type:\"string\"}\n",
        "Stream_video = \"\" #@param {type:\"string\"}\n",
        "Stream_audio = \"\" #@param {type:\"string\"}\n",
        "files=os.listdir(folder_path)\n",
        "for file in files:\n",
        "  video_file_path=folder_path+'/'+file\n",
        "  output_file_path = re.search(\"^[\\/].+\\/\", video_file_path)\n",
        "  output_file_path_raw = output_file_path.group(0)\n",
        "  delsplit = re.search(\"\\/(?:.(?!\\/))+$\", video_file_path)\n",
        "  filename = re.sub(\"^[\\/]\", \"\", delsplit.group(0))\n",
        "  filename_raw = re.sub(\".{4}$\", \"\", filename)\n",
        "  file_extension = re.search(\".{3}$\", filename)\n",
        "  file_extension_raw = file_extension.group(0)\n",
        "\n",
        "  os.environ['inputFile'] = video_file_path\n",
        "  os.environ['outputPath'] = output_file_path_raw\n",
        "  os.environ['fileName'] = filename_raw\n",
        "  os.environ['fileExtension'] = file_extension_raw\n",
        "  os.environ['Streama']=Stream_audio\n",
        "  os.environ['Streamv']=Stream_video\n",
        "\n",
        "  !ffmpeg -i \"$inputFile\" -map 0:\"$Streamv\" -map 0:\"$Streama\" -c:v libx264 -c:a aac \"$outputPath\"/\"$fileName\".mp4"
      ],
      "execution_count": null,
      "outputs": []
    }
  ]
}